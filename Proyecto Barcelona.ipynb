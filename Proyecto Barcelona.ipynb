{
 "cells": [
  {
   "cell_type": "markdown",
   "metadata": {},
   "source": [
    "# <center> Proyecto Barcelona - Comunas de Medellin"
   ]
  },
  {
   "cell_type": "code",
   "execution_count": 170,
   "metadata": {},
   "outputs": [],
   "source": [
    "# LIBRERIAS\n",
    "import pandas as pd\n",
    "import numpy as np \n",
    "\n",
    "import seaborn as sns\n",
    "import plotly.express as px\n",
    "\n",
    "import matplotlib.pyplot as plt\n",
    "import matplotlib.cm as cm\n",
    "%matplotlib inline\n",
    "\n",
    "from mpl_toolkits import mplot3d \n",
    "\n",
    "from sklearn.preprocessing import StandardScaler\n",
    "\n",
    "from sklearn.cluster import KMeans\n",
    "from sklearn.metrics import silhouette_samples, silhouette_score\n",
    "\n",
    "from scipy.cluster.hierarchy import dendrogram, linkage  \n",
    " "
   ]
  },
  {
   "cell_type": "code",
   "execution_count": 100,
   "metadata": {},
   "outputs": [
    {
     "name": "stdout",
     "output_type": "stream",
     "text": [
      "(16, 15)\n"
     ]
    },
    {
     "data": {
      "text/html": [
       "<div>\n",
       "<style scoped>\n",
       "    .dataframe tbody tr th:only-of-type {\n",
       "        vertical-align: middle;\n",
       "    }\n",
       "\n",
       "    .dataframe tbody tr th {\n",
       "        vertical-align: top;\n",
       "    }\n",
       "\n",
       "    .dataframe thead th {\n",
       "        text-align: right;\n",
       "    }\n",
       "</style>\n",
       "<table border=\"1\" class=\"dataframe\">\n",
       "  <thead>\n",
       "    <tr style=\"text-align: right;\">\n",
       "      <th></th>\n",
       "      <th>numero</th>\n",
       "      <th>nombre</th>\n",
       "      <th>zona</th>\n",
       "      <th>fundacion</th>\n",
       "      <th>superficie</th>\n",
       "      <th>habitantes</th>\n",
       "      <th>IDH</th>\n",
       "      <th>-14</th>\n",
       "      <th>15-39</th>\n",
       "      <th>40-64</th>\n",
       "      <th>65+</th>\n",
       "      <th>Mestizos-Blancos</th>\n",
       "      <th>Afro</th>\n",
       "      <th>indigenas</th>\n",
       "      <th>barrios</th>\n",
       "    </tr>\n",
       "  </thead>\n",
       "  <tbody>\n",
       "    <tr>\n",
       "      <th>0</th>\n",
       "      <td>1</td>\n",
       "      <td>Popular</td>\n",
       "      <td>1</td>\n",
       "      <td>1960</td>\n",
       "      <td>2.300</td>\n",
       "      <td>122067</td>\n",
       "      <td>0.782</td>\n",
       "      <td>30.90</td>\n",
       "      <td>42.50</td>\n",
       "      <td>21.5</td>\n",
       "      <td>4.90</td>\n",
       "      <td>80.4</td>\n",
       "      <td>11.3</td>\n",
       "      <td>0.3</td>\n",
       "      <td>21</td>\n",
       "    </tr>\n",
       "    <tr>\n",
       "      <th>1</th>\n",
       "      <td>2</td>\n",
       "      <td>Santa cruz</td>\n",
       "      <td>1</td>\n",
       "      <td>1950</td>\n",
       "      <td>2.210</td>\n",
       "      <td>103212</td>\n",
       "      <td>0.803</td>\n",
       "      <td>31.10</td>\n",
       "      <td>42.90</td>\n",
       "      <td>21.0</td>\n",
       "      <td>4.90</td>\n",
       "      <td>87.6</td>\n",
       "      <td>12.3</td>\n",
       "      <td>0.1</td>\n",
       "      <td>11</td>\n",
       "    </tr>\n",
       "    <tr>\n",
       "      <th>2</th>\n",
       "      <td>3</td>\n",
       "      <td>Manrique</td>\n",
       "      <td>1</td>\n",
       "      <td>1940</td>\n",
       "      <td>5.495</td>\n",
       "      <td>148762</td>\n",
       "      <td>0.802</td>\n",
       "      <td>31.10</td>\n",
       "      <td>42.90</td>\n",
       "      <td>21.0</td>\n",
       "      <td>4.80</td>\n",
       "      <td>87.7</td>\n",
       "      <td>12.0</td>\n",
       "      <td>0.3</td>\n",
       "      <td>19</td>\n",
       "    </tr>\n",
       "    <tr>\n",
       "      <th>3</th>\n",
       "      <td>4</td>\n",
       "      <td>Aranjuez</td>\n",
       "      <td>1</td>\n",
       "      <td>1950</td>\n",
       "      <td>4.872</td>\n",
       "      <td>135167</td>\n",
       "      <td>0.839</td>\n",
       "      <td>31.00</td>\n",
       "      <td>42.90</td>\n",
       "      <td>21.0</td>\n",
       "      <td>4.90</td>\n",
       "      <td>89.8</td>\n",
       "      <td>10.1</td>\n",
       "      <td>0.1</td>\n",
       "      <td>14</td>\n",
       "    </tr>\n",
       "    <tr>\n",
       "      <th>4</th>\n",
       "      <td>5</td>\n",
       "      <td>Castilla</td>\n",
       "      <td>2</td>\n",
       "      <td>1930</td>\n",
       "      <td>6.100</td>\n",
       "      <td>142867</td>\n",
       "      <td>0.861</td>\n",
       "      <td>16.79</td>\n",
       "      <td>36.43</td>\n",
       "      <td>37.9</td>\n",
       "      <td>8.86</td>\n",
       "      <td>98.0</td>\n",
       "      <td>1.0</td>\n",
       "      <td>1.0</td>\n",
       "      <td>15</td>\n",
       "    </tr>\n",
       "  </tbody>\n",
       "</table>\n",
       "</div>"
      ],
      "text/plain": [
       "   numero      nombre  zona  fundacion  superficie  habitantes    IDH    -14  \\\n",
       "0       1     Popular     1       1960       2.300      122067  0.782  30.90   \n",
       "1       2  Santa cruz     1       1950       2.210      103212  0.803  31.10   \n",
       "2       3    Manrique     1       1940       5.495      148762  0.802  31.10   \n",
       "3       4    Aranjuez     1       1950       4.872      135167  0.839  31.00   \n",
       "4       5    Castilla     2       1930       6.100      142867  0.861  16.79   \n",
       "\n",
       "   15-39  40-64   65+  Mestizos-Blancos  Afro  indigenas  barrios  \n",
       "0  42.50   21.5  4.90              80.4  11.3        0.3       21  \n",
       "1  42.90   21.0  4.90              87.6  12.3        0.1       11  \n",
       "2  42.90   21.0  4.80              87.7  12.0        0.3       19  \n",
       "3  42.90   21.0  4.90              89.8  10.1        0.1       14  \n",
       "4  36.43   37.9  8.86              98.0   1.0        1.0       15  "
      ]
     },
     "execution_count": 100,
     "metadata": {},
     "output_type": "execute_result"
    }
   ],
   "source": [
    "df = pd.read_csv('Barca.csv', sep = ',', decimal = '.', header = 0)\n",
    "print(df.shape)\n",
    "df.head()"
   ]
  },
  {
   "cell_type": "code",
   "execution_count": 101,
   "metadata": {},
   "outputs": [
    {
     "data": {
      "text/html": [
       "<div>\n",
       "<style scoped>\n",
       "    .dataframe tbody tr th:only-of-type {\n",
       "        vertical-align: middle;\n",
       "    }\n",
       "\n",
       "    .dataframe tbody tr th {\n",
       "        vertical-align: top;\n",
       "    }\n",
       "\n",
       "    .dataframe thead th {\n",
       "        text-align: right;\n",
       "    }\n",
       "</style>\n",
       "<table border=\"1\" class=\"dataframe\">\n",
       "  <thead>\n",
       "    <tr style=\"text-align: right;\">\n",
       "      <th></th>\n",
       "      <th>numero</th>\n",
       "      <th>zona</th>\n",
       "      <th>fundacion</th>\n",
       "      <th>superficie</th>\n",
       "      <th>habitantes</th>\n",
       "      <th>IDH</th>\n",
       "      <th>-14</th>\n",
       "      <th>15-39</th>\n",
       "      <th>40-64</th>\n",
       "      <th>65+</th>\n",
       "      <th>Mestizos-Blancos</th>\n",
       "      <th>Afro</th>\n",
       "      <th>indigenas</th>\n",
       "      <th>barrios</th>\n",
       "    </tr>\n",
       "  </thead>\n",
       "  <tbody>\n",
       "    <tr>\n",
       "      <th>count</th>\n",
       "      <td>16.000000</td>\n",
       "      <td>16.000000</td>\n",
       "      <td>16.000000</td>\n",
       "      <td>16.000000</td>\n",
       "      <td>16.00000</td>\n",
       "      <td>16.000000</td>\n",
       "      <td>16.000000</td>\n",
       "      <td>16.000000</td>\n",
       "      <td>16.000000</td>\n",
       "      <td>16.000000</td>\n",
       "      <td>15.000000</td>\n",
       "      <td>15.000000</td>\n",
       "      <td>15.000000</td>\n",
       "      <td>16.00000</td>\n",
       "    </tr>\n",
       "    <tr>\n",
       "      <th>mean</th>\n",
       "      <td>8.500000</td>\n",
       "      <td>3.000000</td>\n",
       "      <td>1919.812500</td>\n",
       "      <td>4604.137438</td>\n",
       "      <td>151681.75000</td>\n",
       "      <td>0.859062</td>\n",
       "      <td>26.430625</td>\n",
       "      <td>42.014375</td>\n",
       "      <td>25.275000</td>\n",
       "      <td>6.053750</td>\n",
       "      <td>94.106667</td>\n",
       "      <td>4.833333</td>\n",
       "      <td>0.560000</td>\n",
       "      <td>16.75000</td>\n",
       "    </tr>\n",
       "    <tr>\n",
       "      <th>std</th>\n",
       "      <td>4.760952</td>\n",
       "      <td>1.712698</td>\n",
       "      <td>68.018839</td>\n",
       "      <td>18389.030631</td>\n",
       "      <td>77201.73095</td>\n",
       "      <td>0.055837</td>\n",
       "      <td>4.168190</td>\n",
       "      <td>1.866576</td>\n",
       "      <td>4.344882</td>\n",
       "      <td>1.372914</td>\n",
       "      <td>5.474547</td>\n",
       "      <td>4.593888</td>\n",
       "      <td>1.020364</td>\n",
       "      <td>4.78191</td>\n",
       "    </tr>\n",
       "    <tr>\n",
       "      <th>min</th>\n",
       "      <td>1.000000</td>\n",
       "      <td>1.000000</td>\n",
       "      <td>1675.000000</td>\n",
       "      <td>2.210000</td>\n",
       "      <td>84266.00000</td>\n",
       "      <td>0.782000</td>\n",
       "      <td>16.790000</td>\n",
       "      <td>36.430000</td>\n",
       "      <td>21.000000</td>\n",
       "      <td>4.100000</td>\n",
       "      <td>80.400000</td>\n",
       "      <td>0.000000</td>\n",
       "      <td>0.000000</td>\n",
       "      <td>7.00000</td>\n",
       "    </tr>\n",
       "    <tr>\n",
       "      <th>25%</th>\n",
       "      <td>4.750000</td>\n",
       "      <td>1.750000</td>\n",
       "      <td>1930.000000</td>\n",
       "      <td>4.626500</td>\n",
       "      <td>114363.75000</td>\n",
       "      <td>0.814500</td>\n",
       "      <td>23.800000</td>\n",
       "      <td>41.775000</td>\n",
       "      <td>21.400000</td>\n",
       "      <td>4.900000</td>\n",
       "      <td>91.350000</td>\n",
       "      <td>0.750000</td>\n",
       "      <td>0.100000</td>\n",
       "      <td>13.75000</td>\n",
       "    </tr>\n",
       "    <tr>\n",
       "      <th>50%</th>\n",
       "      <td>8.500000</td>\n",
       "      <td>3.000000</td>\n",
       "      <td>1938.000000</td>\n",
       "      <td>6.031500</td>\n",
       "      <td>133838.00000</td>\n",
       "      <td>0.847000</td>\n",
       "      <td>25.500000</td>\n",
       "      <td>42.300000</td>\n",
       "      <td>25.700000</td>\n",
       "      <td>5.900000</td>\n",
       "      <td>96.000000</td>\n",
       "      <td>3.900000</td>\n",
       "      <td>0.100000</td>\n",
       "      <td>17.00000</td>\n",
       "    </tr>\n",
       "    <tr>\n",
       "      <th>75%</th>\n",
       "      <td>12.250000</td>\n",
       "      <td>4.000000</td>\n",
       "      <td>1950.000000</td>\n",
       "      <td>7.808000</td>\n",
       "      <td>161991.00000</td>\n",
       "      <td>0.893750</td>\n",
       "      <td>30.450000</td>\n",
       "      <td>42.900000</td>\n",
       "      <td>27.350000</td>\n",
       "      <td>7.000000</td>\n",
       "      <td>97.500000</td>\n",
       "      <td>8.550000</td>\n",
       "      <td>0.300000</td>\n",
       "      <td>19.50000</td>\n",
       "    </tr>\n",
       "    <tr>\n",
       "      <th>max</th>\n",
       "      <td>16.000000</td>\n",
       "      <td>6.000000</td>\n",
       "      <td>1960.000000</td>\n",
       "      <td>73563.000000</td>\n",
       "      <td>410671.00000</td>\n",
       "      <td>0.979000</td>\n",
       "      <td>31.100000</td>\n",
       "      <td>44.400000</td>\n",
       "      <td>37.900000</td>\n",
       "      <td>8.860000</td>\n",
       "      <td>100.000000</td>\n",
       "      <td>12.300000</td>\n",
       "      <td>3.000000</td>\n",
       "      <td>25.00000</td>\n",
       "    </tr>\n",
       "  </tbody>\n",
       "</table>\n",
       "</div>"
      ],
      "text/plain": [
       "          numero       zona    fundacion    superficie    habitantes  \\\n",
       "count  16.000000  16.000000    16.000000     16.000000      16.00000   \n",
       "mean    8.500000   3.000000  1919.812500   4604.137438  151681.75000   \n",
       "std     4.760952   1.712698    68.018839  18389.030631   77201.73095   \n",
       "min     1.000000   1.000000  1675.000000      2.210000   84266.00000   \n",
       "25%     4.750000   1.750000  1930.000000      4.626500  114363.75000   \n",
       "50%     8.500000   3.000000  1938.000000      6.031500  133838.00000   \n",
       "75%    12.250000   4.000000  1950.000000      7.808000  161991.00000   \n",
       "max    16.000000   6.000000  1960.000000  73563.000000  410671.00000   \n",
       "\n",
       "             IDH        -14      15-39      40-64        65+  \\\n",
       "count  16.000000  16.000000  16.000000  16.000000  16.000000   \n",
       "mean    0.859062  26.430625  42.014375  25.275000   6.053750   \n",
       "std     0.055837   4.168190   1.866576   4.344882   1.372914   \n",
       "min     0.782000  16.790000  36.430000  21.000000   4.100000   \n",
       "25%     0.814500  23.800000  41.775000  21.400000   4.900000   \n",
       "50%     0.847000  25.500000  42.300000  25.700000   5.900000   \n",
       "75%     0.893750  30.450000  42.900000  27.350000   7.000000   \n",
       "max     0.979000  31.100000  44.400000  37.900000   8.860000   \n",
       "\n",
       "       Mestizos-Blancos       Afro  indigenas   barrios  \n",
       "count         15.000000  15.000000  15.000000  16.00000  \n",
       "mean          94.106667   4.833333   0.560000  16.75000  \n",
       "std            5.474547   4.593888   1.020364   4.78191  \n",
       "min           80.400000   0.000000   0.000000   7.00000  \n",
       "25%           91.350000   0.750000   0.100000  13.75000  \n",
       "50%           96.000000   3.900000   0.100000  17.00000  \n",
       "75%           97.500000   8.550000   0.300000  19.50000  \n",
       "max          100.000000  12.300000   3.000000  25.00000  "
      ]
     },
     "execution_count": 101,
     "metadata": {},
     "output_type": "execute_result"
    }
   ],
   "source": [
    "df.describe()"
   ]
  },
  {
   "cell_type": "code",
   "execution_count": 102,
   "metadata": {},
   "outputs": [
    {
     "data": {
      "text/plain": [
       "numero              0\n",
       "nombre              0\n",
       "zona                0\n",
       "fundacion           0\n",
       "superficie          0\n",
       "habitantes          0\n",
       "IDH                 0\n",
       "-14                 0\n",
       "15-39               0\n",
       "40-64               0\n",
       "65+                 0\n",
       "Mestizos-Blancos    1\n",
       "Afro                1\n",
       "indigenas           1\n",
       "barrios             0\n",
       "dtype: int64"
      ]
     },
     "execution_count": 102,
     "metadata": {},
     "output_type": "execute_result"
    }
   ],
   "source": [
    "##\n",
    "## Contar datos faltantes y eliminar los datos faltantes\n",
    "##\n",
    "df.isnull().sum()"
   ]
  },
  {
   "cell_type": "code",
   "execution_count": 103,
   "metadata": {},
   "outputs": [],
   "source": [
    "df = df.fillna(df.mean())"
   ]
  },
  {
   "cell_type": "code",
   "execution_count": 104,
   "metadata": {},
   "outputs": [
    {
     "data": {
      "text/plain": [
       "numero              0\n",
       "nombre              0\n",
       "zona                0\n",
       "fundacion           0\n",
       "superficie          0\n",
       "habitantes          0\n",
       "IDH                 0\n",
       "-14                 0\n",
       "15-39               0\n",
       "40-64               0\n",
       "65+                 0\n",
       "Mestizos-Blancos    0\n",
       "Afro                0\n",
       "indigenas           0\n",
       "barrios             0\n",
       "dtype: int64"
      ]
     },
     "execution_count": 104,
     "metadata": {},
     "output_type": "execute_result"
    }
   ],
   "source": [
    "##\n",
    "## Contar datos faltantes y eliminar los datos faltantes\n",
    "##\n",
    "df.isnull().sum()"
   ]
  },
  {
   "cell_type": "code",
   "execution_count": 105,
   "metadata": {},
   "outputs": [
    {
     "data": {
      "text/plain": [
       "0"
      ]
     },
     "execution_count": 105,
     "metadata": {},
     "output_type": "execute_result"
    }
   ],
   "source": [
    "##\n",
    "## Contar datos duplicados y eliminar los datos duplicados\n",
    "##\n",
    "df.duplicated().sum()"
   ]
  },
  {
   "cell_type": "code",
   "execution_count": 106,
   "metadata": {},
   "outputs": [
    {
     "name": "stdout",
     "output_type": "stream",
     "text": [
      "<class 'pandas.core.frame.DataFrame'>\n",
      "RangeIndex: 16 entries, 0 to 15\n",
      "Data columns (total 15 columns):\n",
      " #   Column            Non-Null Count  Dtype  \n",
      "---  ------            --------------  -----  \n",
      " 0   numero            16 non-null     int64  \n",
      " 1   nombre            16 non-null     object \n",
      " 2   zona              16 non-null     int64  \n",
      " 3   fundacion         16 non-null     int64  \n",
      " 4   superficie        16 non-null     float64\n",
      " 5   habitantes        16 non-null     int64  \n",
      " 6   IDH               16 non-null     float64\n",
      " 7   -14               16 non-null     float64\n",
      " 8   15-39             16 non-null     float64\n",
      " 9   40-64             16 non-null     float64\n",
      " 10  65+               16 non-null     float64\n",
      " 11  Mestizos-Blancos  16 non-null     float64\n",
      " 12  Afro              16 non-null     float64\n",
      " 13  indigenas         16 non-null     float64\n",
      " 14  barrios           16 non-null     int64  \n",
      "dtypes: float64(9), int64(5), object(1)\n",
      "memory usage: 2.0+ KB\n"
     ]
    }
   ],
   "source": [
    "df.info()"
   ]
  },
  {
   "cell_type": "code",
   "execution_count": 107,
   "metadata": {},
   "outputs": [
    {
     "data": {
      "text/plain": [
       "(16, 15)"
      ]
     },
     "execution_count": 107,
     "metadata": {},
     "output_type": "execute_result"
    }
   ],
   "source": [
    "df.shape"
   ]
  },
  {
   "cell_type": "markdown",
   "metadata": {},
   "source": [
    "## Similitud"
   ]
  },
  {
   "cell_type": "code",
   "execution_count": 108,
   "metadata": {},
   "outputs": [],
   "source": [
    "# data a manejar\n",
    "y = df['numero']\n",
    "X = df.copy()\n",
    "X.drop(['numero', 'nombre'], axis = 1, inplace = True)"
   ]
  },
  {
   "cell_type": "code",
   "execution_count": 109,
   "metadata": {},
   "outputs": [
    {
     "data": {
      "text/html": [
       "<div>\n",
       "<style scoped>\n",
       "    .dataframe tbody tr th:only-of-type {\n",
       "        vertical-align: middle;\n",
       "    }\n",
       "\n",
       "    .dataframe tbody tr th {\n",
       "        vertical-align: top;\n",
       "    }\n",
       "\n",
       "    .dataframe thead th {\n",
       "        text-align: right;\n",
       "    }\n",
       "</style>\n",
       "<table border=\"1\" class=\"dataframe\">\n",
       "  <thead>\n",
       "    <tr style=\"text-align: right;\">\n",
       "      <th></th>\n",
       "      <th>zona</th>\n",
       "      <th>fundacion</th>\n",
       "      <th>superficie</th>\n",
       "      <th>habitantes</th>\n",
       "      <th>IDH</th>\n",
       "      <th>-14</th>\n",
       "      <th>15-39</th>\n",
       "      <th>40-64</th>\n",
       "      <th>65+</th>\n",
       "      <th>Mestizos-Blancos</th>\n",
       "      <th>Afro</th>\n",
       "      <th>indigenas</th>\n",
       "      <th>barrios</th>\n",
       "    </tr>\n",
       "  </thead>\n",
       "  <tbody>\n",
       "    <tr>\n",
       "      <th>0</th>\n",
       "      <td>1</td>\n",
       "      <td>1960</td>\n",
       "      <td>2.300</td>\n",
       "      <td>122067</td>\n",
       "      <td>0.782</td>\n",
       "      <td>30.90</td>\n",
       "      <td>42.50</td>\n",
       "      <td>21.5</td>\n",
       "      <td>4.90</td>\n",
       "      <td>80.4</td>\n",
       "      <td>11.3</td>\n",
       "      <td>0.3</td>\n",
       "      <td>21</td>\n",
       "    </tr>\n",
       "    <tr>\n",
       "      <th>1</th>\n",
       "      <td>1</td>\n",
       "      <td>1950</td>\n",
       "      <td>2.210</td>\n",
       "      <td>103212</td>\n",
       "      <td>0.803</td>\n",
       "      <td>31.10</td>\n",
       "      <td>42.90</td>\n",
       "      <td>21.0</td>\n",
       "      <td>4.90</td>\n",
       "      <td>87.6</td>\n",
       "      <td>12.3</td>\n",
       "      <td>0.1</td>\n",
       "      <td>11</td>\n",
       "    </tr>\n",
       "    <tr>\n",
       "      <th>2</th>\n",
       "      <td>1</td>\n",
       "      <td>1940</td>\n",
       "      <td>5.495</td>\n",
       "      <td>148762</td>\n",
       "      <td>0.802</td>\n",
       "      <td>31.10</td>\n",
       "      <td>42.90</td>\n",
       "      <td>21.0</td>\n",
       "      <td>4.80</td>\n",
       "      <td>87.7</td>\n",
       "      <td>12.0</td>\n",
       "      <td>0.3</td>\n",
       "      <td>19</td>\n",
       "    </tr>\n",
       "    <tr>\n",
       "      <th>3</th>\n",
       "      <td>1</td>\n",
       "      <td>1950</td>\n",
       "      <td>4.872</td>\n",
       "      <td>135167</td>\n",
       "      <td>0.839</td>\n",
       "      <td>31.00</td>\n",
       "      <td>42.90</td>\n",
       "      <td>21.0</td>\n",
       "      <td>4.90</td>\n",
       "      <td>89.8</td>\n",
       "      <td>10.1</td>\n",
       "      <td>0.1</td>\n",
       "      <td>14</td>\n",
       "    </tr>\n",
       "    <tr>\n",
       "      <th>4</th>\n",
       "      <td>2</td>\n",
       "      <td>1930</td>\n",
       "      <td>6.100</td>\n",
       "      <td>142867</td>\n",
       "      <td>0.861</td>\n",
       "      <td>16.79</td>\n",
       "      <td>36.43</td>\n",
       "      <td>37.9</td>\n",
       "      <td>8.86</td>\n",
       "      <td>98.0</td>\n",
       "      <td>1.0</td>\n",
       "      <td>1.0</td>\n",
       "      <td>15</td>\n",
       "    </tr>\n",
       "  </tbody>\n",
       "</table>\n",
       "</div>"
      ],
      "text/plain": [
       "   zona  fundacion  superficie  habitantes    IDH    -14  15-39  40-64   65+  \\\n",
       "0     1       1960       2.300      122067  0.782  30.90  42.50   21.5  4.90   \n",
       "1     1       1950       2.210      103212  0.803  31.10  42.90   21.0  4.90   \n",
       "2     1       1940       5.495      148762  0.802  31.10  42.90   21.0  4.80   \n",
       "3     1       1950       4.872      135167  0.839  31.00  42.90   21.0  4.90   \n",
       "4     2       1930       6.100      142867  0.861  16.79  36.43   37.9  8.86   \n",
       "\n",
       "   Mestizos-Blancos  Afro  indigenas  barrios  \n",
       "0              80.4  11.3        0.3       21  \n",
       "1              87.6  12.3        0.1       11  \n",
       "2              87.7  12.0        0.3       19  \n",
       "3              89.8  10.1        0.1       14  \n",
       "4              98.0   1.0        1.0       15  "
      ]
     },
     "execution_count": 109,
     "metadata": {},
     "output_type": "execute_result"
    }
   ],
   "source": [
    "X.head()"
   ]
  },
  {
   "cell_type": "code",
   "execution_count": 110,
   "metadata": {},
   "outputs": [],
   "source": [
    "# buscar el codo\n",
    "Nc = range(1, 17)\n",
    "kmeans = [KMeans(n_clusters = i) for i in Nc]\n",
    "kmeans\n",
    "score = [kmeans[i].fit(X).score(X) for i in range(len(kmeans))]"
   ]
  },
  {
   "cell_type": "code",
   "execution_count": 111,
   "metadata": {},
   "outputs": [
    {
     "data": {
      "image/png": "[encoded data removed]",
      "text/plain": [
       "<Figure size 432x288 with 1 Axes>"
      ]
     },
     "metadata": {
      "needs_background": "light"
     },
     "output_type": "display_data"
    }
   ],
   "source": [
    "plt.plot(Nc, score)\n",
    "plt.xlabel('Number of Clusters')\n",
    "plt.ylabel('Score')\n",
    "plt.axvline(x = 2, color='red', linestyle='--')\n",
    "plt.axvline(x = 3, color='orange', linestyle='--')\n",
    "plt.axvline(x = 4, color='green', linestyle='--')\n",
    "plt.axvline(x = 5, color='gray', linestyle='--')\n",
    "plt.title('Elbow Curve (Metodo del codo)')\n",
    "plt.show()"
   ]
  },
  {
   "cell_type": "code",
   "execution_count": 138,
   "metadata": {},
   "outputs": [
    {
     "name": "stdout",
     "output_type": "stream",
     "text": [
      "[[2.86666667e+00 1.93613333e+03 4.90954660e+03 1.34415800e+05\n",
      "  8.51066667e-01 2.61726667e+01 4.21886667e+01 2.53333333e+01\n",
      "  6.08400000e+00 9.38204444e+01 5.04888889e+00 5.97333333e-01\n",
      "  1.63333333e+01]\n",
      " [5.00000000e+00 1.67500000e+03 2.30000000e+01 4.10671000e+05\n",
      "  9.79000000e-01 3.03000000e+01 3.94000000e+01 2.44000000e+01\n",
      "  5.60000000e+00 9.84000000e+01 1.60000000e+00 0.00000000e+00\n",
      "  2.30000000e+01]]\n"
     ]
    }
   ],
   "source": [
    "# ajuste de modelo con K = 2 \n",
    "kmeans = KMeans(n_clusters = 2).fit(X)\n",
    "centroids = kmeans.cluster_centers_\n",
    "print(centroids)"
   ]
  },
  {
   "cell_type": "code",
   "execution_count": 139,
   "metadata": {},
   "outputs": [],
   "source": [
    "# Predicting the clusters\n",
    "labels = kmeans.predict(X)"
   ]
  },
  {
   "cell_type": "code",
   "execution_count": 140,
   "metadata": {},
   "outputs": [],
   "source": [
    "data = {'numero': df['numero'], 'nombre': df['nombre'], 'prediccion': labels}\n",
    "data = pd.DataFrame.from_dict(data)"
   ]
  },
  {
   "cell_type": "code",
   "execution_count": 141,
   "metadata": {},
   "outputs": [
    {
     "data": {
      "text/html": [
       "<div>\n",
       "<style scoped>\n",
       "    .dataframe tbody tr th:only-of-type {\n",
       "        vertical-align: middle;\n",
       "    }\n",
       "\n",
       "    .dataframe tbody tr th {\n",
       "        vertical-align: top;\n",
       "    }\n",
       "\n",
       "    .dataframe thead th {\n",
       "        text-align: right;\n",
       "    }\n",
       "</style>\n",
       "<table border=\"1\" class=\"dataframe\">\n",
       "  <thead>\n",
       "    <tr style=\"text-align: right;\">\n",
       "      <th></th>\n",
       "      <th>numero</th>\n",
       "      <th>prediccion</th>\n",
       "    </tr>\n",
       "    <tr>\n",
       "      <th>nombre</th>\n",
       "      <th></th>\n",
       "      <th></th>\n",
       "    </tr>\n",
       "  </thead>\n",
       "  <tbody>\n",
       "    <tr>\n",
       "      <th>Popular</th>\n",
       "      <td>1</td>\n",
       "      <td>0</td>\n",
       "    </tr>\n",
       "    <tr>\n",
       "      <th>Santa cruz</th>\n",
       "      <td>2</td>\n",
       "      <td>0</td>\n",
       "    </tr>\n",
       "    <tr>\n",
       "      <th>Manrique</th>\n",
       "      <td>3</td>\n",
       "      <td>0</td>\n",
       "    </tr>\n",
       "    <tr>\n",
       "      <th>Aranjuez</th>\n",
       "      <td>4</td>\n",
       "      <td>0</td>\n",
       "    </tr>\n",
       "    <tr>\n",
       "      <th>Castilla</th>\n",
       "      <td>5</td>\n",
       "      <td>0</td>\n",
       "    </tr>\n",
       "    <tr>\n",
       "      <th>Doce de Octubre</th>\n",
       "      <td>6</td>\n",
       "      <td>0</td>\n",
       "    </tr>\n",
       "    <tr>\n",
       "      <th>Robledo</th>\n",
       "      <td>7</td>\n",
       "      <td>0</td>\n",
       "    </tr>\n",
       "    <tr>\n",
       "      <th>Villa Hermosa</th>\n",
       "      <td>8</td>\n",
       "      <td>0</td>\n",
       "    </tr>\n",
       "    <tr>\n",
       "      <th>Buenos Aires</th>\n",
       "      <td>9</td>\n",
       "      <td>0</td>\n",
       "    </tr>\n",
       "    <tr>\n",
       "      <th>La Candelaria</th>\n",
       "      <td>10</td>\n",
       "      <td>0</td>\n",
       "    </tr>\n",
       "    <tr>\n",
       "      <th>Laureles</th>\n",
       "      <td>11</td>\n",
       "      <td>0</td>\n",
       "    </tr>\n",
       "    <tr>\n",
       "      <th>La America</th>\n",
       "      <td>12</td>\n",
       "      <td>0</td>\n",
       "    </tr>\n",
       "    <tr>\n",
       "      <th>San Javier</th>\n",
       "      <td>13</td>\n",
       "      <td>0</td>\n",
       "    </tr>\n",
       "    <tr>\n",
       "      <th>Poblado</th>\n",
       "      <td>14</td>\n",
       "      <td>1</td>\n",
       "    </tr>\n",
       "    <tr>\n",
       "      <th>Guayabal</th>\n",
       "      <td>15</td>\n",
       "      <td>0</td>\n",
       "    </tr>\n",
       "    <tr>\n",
       "      <th>Belen</th>\n",
       "      <td>16</td>\n",
       "      <td>0</td>\n",
       "    </tr>\n",
       "  </tbody>\n",
       "</table>\n",
       "</div>"
      ],
      "text/plain": [
       "                 numero  prediccion\n",
       "nombre                             \n",
       "Popular               1           0\n",
       "Santa cruz            2           0\n",
       "Manrique              3           0\n",
       "Aranjuez              4           0\n",
       "Castilla              5           0\n",
       "Doce de Octubre       6           0\n",
       "Robledo               7           0\n",
       "Villa Hermosa         8           0\n",
       "Buenos Aires          9           0\n",
       "La Candelaria        10           0\n",
       "Laureles             11           0\n",
       "La America           12           0\n",
       "San Javier           13           0\n",
       "Poblado              14           1\n",
       "Guayabal             15           0\n",
       "Belen                16           0"
      ]
     },
     "execution_count": 141,
     "metadata": {},
     "output_type": "execute_result"
    }
   ],
   "source": [
    "data = data.set_index('nombre')\n",
    "data"
   ]
  },
  {
   "cell_type": "markdown",
   "metadata": {},
   "source": [
    "## dendrogramas"
   ]
  },
  {
   "cell_type": "code",
   "execution_count": 124,
   "metadata": {},
   "outputs": [],
   "source": [
    "linked = linkage(X, 'single')"
   ]
  },
  {
   "cell_type": "code",
   "execution_count": 137,
   "metadata": {
    "scrolled": true
   },
   "outputs": [
    {
     "data": {
      "image/png": "[encoded data removed]",
      "text/plain": [
       "<Figure size 720x504 with 1 Axes>"
      ]
     },
     "metadata": {
      "needs_background": "light"
     },
     "output_type": "display_data"
    }
   ],
   "source": [
    "plt.figure(figsize=(10, 7))  \n",
    "dendrogram(linked,  \n",
    "            orientation = 'top',\n",
    "            labels = data.index,\n",
    "            distance_sort = 'descending',\n",
    "            show_leaf_counts = True, \n",
    "            color_threshold = 10000,\n",
    "            leaf_rotation = 90, \n",
    "            leaf_font_size = 8\n",
    "          )\n",
    "plt.savefig(\"figura.png\")\n",
    "plt.show()  "
   ]
  },
  {
   "cell_type": "markdown",
   "metadata": {},
   "source": [
    "## PCA"
   ]
  },
  {
   "cell_type": "code",
   "execution_count": 152,
   "metadata": {},
   "outputs": [],
   "source": [
    "from sklearn.preprocessing import StandardScaler\n",
    "from sklearn.decomposition import PCA\n",
    "from sklearn.pipeline import Pipeline"
   ]
  },
  {
   "cell_type": "code",
   "execution_count": 142,
   "metadata": {},
   "outputs": [
    {
     "data": {
      "text/html": [
       "<div>\n",
       "<style scoped>\n",
       "    .dataframe tbody tr th:only-of-type {\n",
       "        vertical-align: middle;\n",
       "    }\n",
       "\n",
       "    .dataframe tbody tr th {\n",
       "        vertical-align: top;\n",
       "    }\n",
       "\n",
       "    .dataframe thead th {\n",
       "        text-align: right;\n",
       "    }\n",
       "</style>\n",
       "<table border=\"1\" class=\"dataframe\">\n",
       "  <thead>\n",
       "    <tr style=\"text-align: right;\">\n",
       "      <th></th>\n",
       "      <th>zona</th>\n",
       "      <th>fundacion</th>\n",
       "      <th>superficie</th>\n",
       "      <th>habitantes</th>\n",
       "      <th>IDH</th>\n",
       "      <th>-14</th>\n",
       "      <th>15-39</th>\n",
       "      <th>40-64</th>\n",
       "      <th>65+</th>\n",
       "      <th>Mestizos-Blancos</th>\n",
       "      <th>Afro</th>\n",
       "      <th>indigenas</th>\n",
       "      <th>barrios</th>\n",
       "    </tr>\n",
       "  </thead>\n",
       "  <tbody>\n",
       "    <tr>\n",
       "      <th>0</th>\n",
       "      <td>1</td>\n",
       "      <td>1960</td>\n",
       "      <td>2.300</td>\n",
       "      <td>122067</td>\n",
       "      <td>0.782</td>\n",
       "      <td>30.90</td>\n",
       "      <td>42.50</td>\n",
       "      <td>21.5</td>\n",
       "      <td>4.90</td>\n",
       "      <td>80.4</td>\n",
       "      <td>11.3</td>\n",
       "      <td>0.3</td>\n",
       "      <td>21</td>\n",
       "    </tr>\n",
       "    <tr>\n",
       "      <th>1</th>\n",
       "      <td>1</td>\n",
       "      <td>1950</td>\n",
       "      <td>2.210</td>\n",
       "      <td>103212</td>\n",
       "      <td>0.803</td>\n",
       "      <td>31.10</td>\n",
       "      <td>42.90</td>\n",
       "      <td>21.0</td>\n",
       "      <td>4.90</td>\n",
       "      <td>87.6</td>\n",
       "      <td>12.3</td>\n",
       "      <td>0.1</td>\n",
       "      <td>11</td>\n",
       "    </tr>\n",
       "    <tr>\n",
       "      <th>2</th>\n",
       "      <td>1</td>\n",
       "      <td>1940</td>\n",
       "      <td>5.495</td>\n",
       "      <td>148762</td>\n",
       "      <td>0.802</td>\n",
       "      <td>31.10</td>\n",
       "      <td>42.90</td>\n",
       "      <td>21.0</td>\n",
       "      <td>4.80</td>\n",
       "      <td>87.7</td>\n",
       "      <td>12.0</td>\n",
       "      <td>0.3</td>\n",
       "      <td>19</td>\n",
       "    </tr>\n",
       "    <tr>\n",
       "      <th>3</th>\n",
       "      <td>1</td>\n",
       "      <td>1950</td>\n",
       "      <td>4.872</td>\n",
       "      <td>135167</td>\n",
       "      <td>0.839</td>\n",
       "      <td>31.00</td>\n",
       "      <td>42.90</td>\n",
       "      <td>21.0</td>\n",
       "      <td>4.90</td>\n",
       "      <td>89.8</td>\n",
       "      <td>10.1</td>\n",
       "      <td>0.1</td>\n",
       "      <td>14</td>\n",
       "    </tr>\n",
       "    <tr>\n",
       "      <th>4</th>\n",
       "      <td>2</td>\n",
       "      <td>1930</td>\n",
       "      <td>6.100</td>\n",
       "      <td>142867</td>\n",
       "      <td>0.861</td>\n",
       "      <td>16.79</td>\n",
       "      <td>36.43</td>\n",
       "      <td>37.9</td>\n",
       "      <td>8.86</td>\n",
       "      <td>98.0</td>\n",
       "      <td>1.0</td>\n",
       "      <td>1.0</td>\n",
       "      <td>15</td>\n",
       "    </tr>\n",
       "  </tbody>\n",
       "</table>\n",
       "</div>"
      ],
      "text/plain": [
       "   zona  fundacion  superficie  habitantes    IDH    -14  15-39  40-64   65+  \\\n",
       "0     1       1960       2.300      122067  0.782  30.90  42.50   21.5  4.90   \n",
       "1     1       1950       2.210      103212  0.803  31.10  42.90   21.0  4.90   \n",
       "2     1       1940       5.495      148762  0.802  31.10  42.90   21.0  4.80   \n",
       "3     1       1950       4.872      135167  0.839  31.00  42.90   21.0  4.90   \n",
       "4     2       1930       6.100      142867  0.861  16.79  36.43   37.9  8.86   \n",
       "\n",
       "   Mestizos-Blancos  Afro  indigenas  barrios  \n",
       "0              80.4  11.3        0.3       21  \n",
       "1              87.6  12.3        0.1       11  \n",
       "2              87.7  12.0        0.3       19  \n",
       "3              89.8  10.1        0.1       14  \n",
       "4              98.0   1.0        1.0       15  "
      ]
     },
     "execution_count": 142,
     "metadata": {},
     "output_type": "execute_result"
    }
   ],
   "source": [
    "df = pd.read_csv('Barca.csv', sep = ',', decimal = '.', header = 0)\n",
    "df = df.fillna(df.mean())\n",
    "# data a manejar\n",
    "y = df['numero']\n",
    "X = df.copy()\n",
    "X.drop(['numero', 'nombre'], axis = 1, inplace = True)\n",
    "X.head()"
   ]
  },
  {
   "cell_type": "code",
   "execution_count": 144,
   "metadata": {},
   "outputs": [
    {
     "data": {
      "text/plain": [
       "PCA(copy=True, iterated_power='auto', n_components=None, random_state=None,\n",
       "    svd_solver='auto', tol=0.0, whiten=False)"
      ]
     },
     "execution_count": 144,
     "metadata": {},
     "output_type": "execute_result"
    }
   ],
   "source": [
    "# Scale the data\n",
    "scaler = StandardScaler()\n",
    "Xs = scaler.fit_transform(X)\n",
    "\n",
    "# Apply PCA\n",
    "pca = PCA()\n",
    "pca.fit(Xs)"
   ]
  },
  {
   "cell_type": "code",
   "execution_count": 145,
   "metadata": {},
   "outputs": [
    {
     "name": "stdout",
     "output_type": "stream",
     "text": [
      "[3.82028851e-01 2.18177988e-01 1.16803100e-01 9.01853823e-02\n",
      " 7.73578682e-02 5.82822292e-02 2.22852921e-02 1.77944654e-02\n",
      " 8.62462665e-03 5.91617658e-03 2.20540957e-03 2.92296743e-04\n",
      " 4.63143176e-05]\n"
     ]
    }
   ],
   "source": [
    "# Inspect the explained variance ratio per component\n",
    "print(pca.explained_variance_ratio_)"
   ]
  },
  {
   "cell_type": "code",
   "execution_count": 150,
   "metadata": {},
   "outputs": [
    {
     "name": "stdout",
     "output_type": "stream",
     "text": [
      "[0.38202885 0.60020684 0.71700994 0.80719532 0.88455319 0.94283542\n",
      " 0.96512071 0.98291518 0.9915398  0.99745598 0.99966139 0.99995369\n",
      " 1.        ]\n"
     ]
    }
   ],
   "source": [
    "# Print the cumulative sum of the explained variance ratio\n",
    "print(pca.explained_variance_ratio_.cumsum())"
   ]
  },
  {
   "cell_type": "code",
   "execution_count": 171,
   "metadata": {},
   "outputs": [
    {
     "name": "stdout",
     "output_type": "stream",
     "text": [
      "[[-3.63231268 -0.09983856 -1.41654949]\n",
      " [-3.21658533 -0.62531449 -0.59518555]\n",
      " [-3.10849276  0.35684123 -0.82695629]\n",
      " [-2.60887416  0.03181475 -0.40318054]\n",
      " [ 4.04339286 -2.6142069  -1.20757333]\n",
      " [-1.17071738  0.36102685  3.44583708]\n",
      " [-1.70157855  1.41817726  0.5963448 ]\n",
      " [ 0.79249617 -0.52965859  0.39848054]\n",
      " [ 0.82924941 -0.81220107  2.05756088]\n",
      " [ 0.51986789 -1.06902178 -0.60065946]\n",
      " [ 1.52401522 -0.61254172 -0.41756205]\n",
      " [ 1.32599475 -1.08164343 -0.26423186]\n",
      " [ 0.49803216 -0.53959087 -0.93452336]\n",
      " [ 2.73324485  5.37350622 -0.90570162]\n",
      " [ 1.12743873 -1.00018362  0.79438892]\n",
      " [ 2.04482881  1.44283472  0.27951132]]\n"
     ]
    }
   ],
   "source": [
    "# Build the pipeline\n",
    "pipe = Pipeline([('scaler', StandardScaler()),\n",
    "                 ('reducer', PCA(n_components = 3))])\n",
    "\n",
    "# Fit the pipeline to poke_df and transform the data\n",
    "pc =  pipe.fit_transform(Xs)\n",
    "print(pc)"
   ]
  },
  {
   "cell_type": "code",
   "execution_count": 172,
   "metadata": {},
   "outputs": [],
   "source": [
    "# Add the 2 components to poke_cat_df\n",
    "X['PC 1'] = pc[:, 0]\n",
    "X['PC 2'] = pc[:, 1]"
   ]
  },
  {
   "cell_type": "code",
   "execution_count": 173,
   "metadata": {},
   "outputs": [
    {
     "data": {
      "image/png": "[encoded data removed]",
      "text/plain": [
       "<Figure size 432x288 with 1 Axes>"
      ]
     },
     "metadata": {
      "needs_background": "light"
     },
     "output_type": "display_data"
    }
   ],
   "source": [
    "# Use the Type feature to color the PC 1 vs PC 2 scatterplot\n",
    "sns.scatterplot(data = X, \n",
    "                x = 'PC 1', y = 'PC 2', hue = y)\n",
    "plt.show()"
   ]
  },
  {
   "cell_type": "code",
   "execution_count": 174,
   "metadata": {},
   "outputs": [
    {
     "data": {
      "image/png": "[encoded data removed]",
      "text/plain": [
       "<Figure size 720x504 with 2 Axes>"
      ]
     },
     "metadata": {
      "needs_background": "light"
     },
     "output_type": "display_data"
    }
   ],
   "source": [
    "# Creating dataset \n",
    "X['PC 1'] = pc[:, 0]\n",
    "X['PC 2'] = pc[:, 1]\n",
    "X['PC 3'] = pc[:, 2]\n",
    "  \n",
    "# Creating figure \n",
    "fig = plt.figure(figsize = (10, 7)) \n",
    "ax = plt.axes(projection =\"3d\")\n",
    "\n",
    "# Add x, y gridlines  \n",
    "ax.grid(b = True, color = 'grey',  \n",
    "        linestyle = '-.', linewidth = 0.3,  \n",
    "        alpha = 0.2)  \n",
    "\n",
    "# Creating color map \n",
    "my_cmap = plt.get_cmap('hsv') \n",
    "  \n",
    "# Creating plot \n",
    "sctt = ax.scatter3D(X['PC 1'], X['PC 2'], X['PC 3'], \n",
    "                    alpha = 0.8, \n",
    "                    c = y,  \n",
    "                    cmap = my_cmap,  \n",
    "                    marker = '^') \n",
    "\n",
    "plt.title(\"simple 3D scatter plot\") \n",
    "ax.set_xlabel('PC1', fontweight ='bold')  \n",
    "ax.set_ylabel('PC2', fontweight ='bold')  \n",
    "ax.set_zlabel('PC3', fontweight ='bold') \n",
    "fig.colorbar(sctt, ax = ax, shrink = 0.5, aspect = 5) \n",
    "  \n",
    "# show plot \n",
    "plt.show() "
   ]
  },
  {
   "cell_type": "code",
   "execution_count": null,
   "metadata": {},
   "outputs": [],
   "source": []
  }
 ],
 "metadata": {
  "kernelspec": {
   "display_name": "Python 3",
   "language": "python",
   "name": "python3"
  },
  "language_info": {
   "codemirror_mode": {
    "name": "ipython",
    "version": 3
   },
   "file_extension": ".py",
   "mimetype": "text/x-python",
   "name": "python",
   "nbconvert_exporter": "python",
   "pygments_lexer": "ipython3",
   "version": "3.7.6"
  }
 },
 "nbformat": 4,
 "nbformat_minor": 4
}
